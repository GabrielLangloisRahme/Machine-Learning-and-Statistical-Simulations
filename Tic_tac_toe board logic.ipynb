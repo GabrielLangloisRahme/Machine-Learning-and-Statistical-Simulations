{
 "cells": [
  {
   "cell_type": "code",
   "execution_count": 1,
   "metadata": {},
   "outputs": [],
   "source": [
    "def print_board(board):\n",
    "    print(\"|-------------|\")\n",
    "    print(\"| Tic Tac Toe |\")\n",
    "    print(\"|-------------|\")\n",
    "    print(\"|             |\")\n",
    "    print(\"|    \" + board[0][0] + \" \" + board[0][1] + \" \" + board[0][2] + \"    |\")\n",
    "    print(\"|    \" + board[1][0] + \" \" + board[1][1] + \" \" + board[1][2] + \"    |\")\n",
    "    print(\"|    \" + board[2][0] + \" \" + board[2][1] + \" \" + board[2][2] + \"    |\")\n",
    "    print(\"|             |\")\n",
    "    print(\"|-------------|\")\n",
    "    print()\n",
    "\n",
    "\n",
    "def select_space(board, move, turn):\n",
    "    if move not in range(1,10):\n",
    "        return False\n",
    "    row = int((move-1)/3)\n",
    "    col = (move-1)%3\n",
    "    if board[row][col] != \"X\" and board[row][col] != \"O\":\n",
    "        board[row][col] = turn\n",
    "        return True\n",
    "    else:\n",
    "        return False\n",
    "\n",
    "def available_moves(board):\n",
    "    moves = []\n",
    "    for row in board:\n",
    "        for col in row:\n",
    "            if col != \"X\" and col != \"O\":\n",
    "                moves.append(int(col))\n",
    "    return moves\n",
    "\n",
    "def has_won(board, player):\n",
    "    for row in board:\n",
    "        if row.count(player) == 3:\n",
    "            return True\n",
    "    for i in range(3):\n",
    "        if board[0][i] == player and board[1][i] == player and board[2][i] == player:\n",
    "            return True\n",
    "    if board[0][0] == player and board[1][1] == player and board[2][2] == player:\n",
    "        return True\n",
    "    if board[0][2] == player and board[1][1] == player and board[2][0] == player:\n",
    "        return True\n",
    "    return False\n"
   ]
  },
  {
   "cell_type": "code",
   "execution_count": 7,
   "metadata": {},
   "outputs": [
    {
     "name": "stdout",
     "output_type": "stream",
     "text": [
      "|-------------|\n",
      "| Tic Tac Toe |\n",
      "|-------------|\n",
      "|             |\n",
      "|    X X X    |\n",
      "|    4 O 6    |\n",
      "|    7 O 9    |\n",
      "|             |\n",
      "|-------------|\n",
      "()\n",
      "1\n"
     ]
    }
   ],
   "source": [
    "my_board = [[\"1\", \"2\", \"X\"],\n",
    "[\"4\", \"5\", \"6\"],\n",
    "[\"7\", \"8\", \"9\"]\n",
    "]\n",
    "\n",
    "select_space(my_board,5,'O')\n",
    "select_space(my_board,1,'X')\n",
    "select_space(my_board,2,'X')\n",
    "select_space(my_board,8,'O')\n",
    "print_board(my_board)\n",
    "\n",
    "def game_is_over(board):\n",
    "  return has_won(board, \"X\") or has_won(board, \"O\") or len(available_moves(board)) == 0\n",
    "\n",
    "def evaluate_board(board):\n",
    "  if has_won(board, \"X\"):\n",
    "    return 1\n",
    "  elif has_won(board, \"O\"):\n",
    "    return -1\n",
    "  else:\n",
    "    return 0\n",
    "  \n",
    "if (game_is_over(my_board)):\n",
    "  print(evaluate_board(my_board))\n",
    "\n"
   ]
  },
  {
   "cell_type": "code",
   "execution_count": null,
   "metadata": {},
   "outputs": [],
   "source": []
  }
 ],
 "metadata": {
  "kernelspec": {
   "display_name": "Python 2",
   "language": "python",
   "name": "python2"
  },
  "language_info": {
   "codemirror_mode": {
    "name": "ipython",
    "version": 2
   },
   "file_extension": ".py",
   "mimetype": "text/x-python",
   "name": "python",
   "nbconvert_exporter": "python",
   "pygments_lexer": "ipython2",
   "version": "2.7.16"
  }
 },
 "nbformat": 4,
 "nbformat_minor": 2
}
