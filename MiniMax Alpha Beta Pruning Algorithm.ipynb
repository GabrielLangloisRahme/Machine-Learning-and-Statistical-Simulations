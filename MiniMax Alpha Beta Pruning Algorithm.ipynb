{
 "cells": [
  {
   "cell_type": "code",
   "execution_count": 1,
   "metadata": {},
   "outputs": [],
   "source": [
    "def minimax(input_board, is_maximizing, depth, alpha, beta):\n",
    "  # Base case - the game is over, so we return the value of the board\n",
    "  if game_is_over(input_board) or depth == 0:\n",
    "    return [evaluate_board(input_board), \"\",alpha,beta]\n",
    "  best_move = \"\"\n",
    "  if is_maximizing == True:\n",
    "    best_value = -float(\"Inf\")\n",
    "    symbol = \"X\"\n",
    "  else:\n",
    "    best_value = float(\"Inf\")\n",
    "    symbol = \"O\"\n",
    "  for move in available_moves(input_board):\n",
    "    new_board = deepcopy(input_board)\n",
    "    select_space(new_board, move, symbol)\n",
    "    hypothetical_value = minimax(new_board, not is_maximizing, depth - 1,alpha,beta)[0]\n",
    "    if is_maximizing == True and hypothetical_value > best_value:\n",
    "      best_value = hypothetical_value\n",
    "      best_move = move\n",
    "      alpha=max(alpha,best_value)\n",
    "    if is_maximizing == False and hypothetical_value < best_value:\n",
    "      best_value = hypothetical_value\n",
    "      best_move = move\n",
    "      beta=min(beta,best_value)\n",
    "    if alpha>beta:\n",
    "      break\n",
    "  return [best_value, best_move,alpha,beta]\n"
   ]
  },
  {
   "cell_type": "code",
   "execution_count": null,
   "metadata": {},
   "outputs": [],
   "source": []
  }
 ],
 "metadata": {
  "kernelspec": {
   "display_name": "Python 2",
   "language": "python",
   "name": "python2"
  },
  "language_info": {
   "codemirror_mode": {
    "name": "ipython",
    "version": 2
   },
   "file_extension": ".py",
   "mimetype": "text/x-python",
   "name": "python",
   "nbconvert_exporter": "python",
   "pygments_lexer": "ipython2",
   "version": "2.7.16"
  }
 },
 "nbformat": 4,
 "nbformat_minor": 2
}
