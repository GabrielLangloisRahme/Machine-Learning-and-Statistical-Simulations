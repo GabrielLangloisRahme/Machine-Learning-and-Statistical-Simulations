{
 "cells": [
  {
   "cell_type": "code",
   "execution_count": 1,
   "metadata": {},
   "outputs": [],
   "source": [
    "def bgrad(x,y,m,b):\n",
    "    sum=0\n",
    "    for i in range(len(x)):\n",
    "        sum+=y[i]-x[i]*m+b\n",
    "    return -2.0*sum/len(x)"
   ]
  },
  {
   "cell_type": "code",
   "execution_count": 2,
   "metadata": {},
   "outputs": [],
   "source": [
    "def mgrad(x,y,m,b):\n",
    "    sum=0\n",
    "    for i in range(len(x)):\n",
    "        sum+=x[i]*(y[i]-x[i]*m+b)\n",
    "    return -2.0*sum/len(x)"
   ]
  },
  {
   "cell_type": "code",
   "execution_count": 3,
   "metadata": {},
   "outputs": [],
   "source": [
    "def grad(x,y,m_current,b_current,learning):\n",
    "    db=bgrad(x,y,m_current,b_current)\n",
    "    dm=mgrad(x,y,m_current,b_current)\n",
    "    bi=b_current-(db*learning)\n",
    "    mi=m_current-(dm*learning)\n",
    "    return [mi,bi]"
   ]
  },
  {
   "cell_type": "code",
   "execution_count": 4,
   "metadata": {},
   "outputs": [],
   "source": [
    "def graddesc(x,y,learning,iterations):\n",
    "    b_current=0.0\n",
    "    m_current=0.0\n",
    "    for i in range(iterations):\n",
    "        mi,bi=grad(x,y,m_current,b_current,learning)\n",
    "    return mi,bi"
   ]
  },
  {
   "cell_type": "code",
   "execution_count": 5,
   "metadata": {},
   "outputs": [],
   "source": [
    "xval=[i*0.1 for i in range(100)]\n",
    "yval=[i*0.5 for i in range(100)]"
   ]
  },
  {
   "cell_type": "code",
   "execution_count": 6,
   "metadata": {},
   "outputs": [],
   "source": [
    "mval,bval=graddesc(xval,yval,0.1,1000)"
   ]
  },
  {
   "cell_type": "code",
   "execution_count": 7,
   "metadata": {},
   "outputs": [
    {
     "name": "stdout",
     "output_type": "stream",
     "text": [
      "32.835 4.95\n"
     ]
    }
   ],
   "source": [
    "print(mval,bval)"
   ]
  },
  {
   "cell_type": "code",
   "execution_count": 8,
   "metadata": {},
   "outputs": [],
   "source": [
    "mval2,bval2=graddesc(xval,yval,0.1,2000)"
   ]
  },
  {
   "cell_type": "code",
   "execution_count": null,
   "metadata": {},
   "outputs": [],
   "source": []
  }
 ],
 "metadata": {
  "kernelspec": {
   "display_name": "Python 2",
   "language": "python",
   "name": "python2"
  },
  "language_info": {
   "codemirror_mode": {
    "name": "ipython",
    "version": 2
   },
   "file_extension": ".py",
   "mimetype": "text/x-python",
   "name": "python",
   "nbconvert_exporter": "python",
   "pygments_lexer": "ipython2",
   "version": "2.7.16"
  }
 },
 "nbformat": 4,
 "nbformat_minor": 2
}
