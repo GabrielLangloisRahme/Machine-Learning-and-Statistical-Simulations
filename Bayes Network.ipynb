{
 "cells": [
  {
   "cell_type": "code",
   "execution_count": 12,
   "metadata": {},
   "outputs": [],
   "source": [
    "positive={'I':2,'am':5,'happy':80}\n",
    "negative={'I':2,'am':5,'unhappy':80}\n",
    "\n",
    "word=\"I am not happy today\"\n",
    "\n",
    "words=word.split()\n",
    "\n",
    "probpos=0.8\n",
    "probneg=0.2\n",
    "\n",
    "probword_pos=1\n",
    "probword_neg=1\n",
    "\n",
    "\n",
    "for i in words:\n",
    "    \n",
    "    try:\n",
    "        probword_pos*=(positive[i]+1)/(len(positive)+sum(positive.values()))\n",
    "        probword_neg*=(negative[i]+1)/(len(negative)+sum(negative.values()))\n",
    "    except KeyError:\n",
    "        probword_pos*=1\n",
    "        probword_neg*=1\n",
    "\n",
    "probpos_word=probword_pos*probpos\n",
    "probneg_word=probword_neg*probneg\n",
    "\n"
   ]
  },
  {
   "cell_type": "code",
   "execution_count": 13,
   "metadata": {},
   "outputs": [
    {
     "name": "stdout",
     "output_type": "stream",
     "text": [
      "0.0016\n"
     ]
    }
   ],
   "source": [
    "print(probpos_word)"
   ]
  },
  {
   "cell_type": "code",
   "execution_count": 14,
   "metadata": {},
   "outputs": [
    {
     "name": "stdout",
     "output_type": "stream",
     "text": [
      "0.00044444444444444447\n"
     ]
    }
   ],
   "source": [
    "print(probneg_word)"
   ]
  },
  {
   "cell_type": "code",
   "execution_count": null,
   "metadata": {},
   "outputs": [],
   "source": []
  }
 ],
 "metadata": {
  "kernelspec": {
   "display_name": "Python 3",
   "language": "python",
   "name": "python3"
  },
  "language_info": {
   "codemirror_mode": {
    "name": "ipython",
    "version": 3
   },
   "file_extension": ".py",
   "mimetype": "text/x-python",
   "name": "python",
   "nbconvert_exporter": "python",
   "pygments_lexer": "ipython3",
   "version": "3.7.2"
  }
 },
 "nbformat": 4,
 "nbformat_minor": 2
}
