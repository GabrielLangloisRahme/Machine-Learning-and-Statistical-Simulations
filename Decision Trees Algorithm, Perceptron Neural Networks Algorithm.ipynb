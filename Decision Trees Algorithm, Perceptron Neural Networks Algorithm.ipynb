{
 "cells": [
  {
   "cell_type": "code",
   "execution_count": 53,
   "metadata": {},
   "outputs": [],
   "source": [
    "from collections import Counter\n",
    "\n",
    "import numpy as np"
   ]
  },
  {
   "cell_type": "code",
   "execution_count": 6,
   "metadata": {},
   "outputs": [],
   "source": [
    "def impurity(label):\n",
    "    a=Counter(label)\n",
    "    impurity=1\n",
    "    for i in a:\n",
    "        impurity-=(a[i]/len(label))**2\n",
    "    return impurity    \n",
    "        \n",
    "        "
   ]
  },
  {
   "cell_type": "code",
   "execution_count": 5,
   "metadata": {},
   "outputs": [],
   "source": [
    "def infogain(parentlabel,childlabel):\n",
    "    info=impurity(parentlabel)\n",
    "    for leaf in childlabel:\n",
    "        info-=impurity(leaf)\n",
    "    return info"
   ]
  },
  {
   "cell_type": "code",
   "execution_count": 63,
   "metadata": {},
   "outputs": [],
   "source": [
    "def split(data,label,column):\n",
    "    newdata=[]\n",
    "    newlabel=[]\n",
    "    \n",
    "    a=list(set([i[column] for i in data]))\n",
    "    \n",
    "    for value in a:\n",
    "        dat=[]\n",
    "        lab=[]\n",
    "    \n",
    "        for j in range(len(data)):\n",
    "        \n",
    "            if data[j][column]==value:\n",
    "                dat.append(data[j])\n",
    "                lab.append(label[j])\n",
    "        newdata.append(dat)\n",
    "        newlabel.append(lab)\n",
    "    \n",
    "    return newdata,newlabel\n",
    "        "
   ]
  },
  {
   "cell_type": "code",
   "execution_count": 49,
   "metadata": {},
   "outputs": [],
   "source": [
    "def bestfeature(data,label):\n",
    "    bestinfogain=0\n",
    "    bestfeature=0\n",
    "    for i in range(len(data[0])):\n",
    "        newfeature, newlabel=split(data,label,i)\n",
    "        infog=infogain(label,newlabel)\n",
    "        if infog>bestinfogain:\n",
    "            bestinfogain=infog\n",
    "            bestfeature=i\n",
    "    return bestfeature,bestinfogain"
   ]
  },
  {
   "cell_type": "code",
   "execution_count": 76,
   "metadata": {},
   "outputs": [],
   "source": [
    "def buildtree(data,label):\n",
    "    bestfeat, bestinfogain=bestfeature(data,label)\n",
    "    if bestinfogain == 0:\n",
    "        return Counter(label)\n",
    "    datasubset,labelsubset=split(data,label,bestfeat)\n",
    "    tree=[]\n",
    "    for i in range(len(labelsubset)):\n",
    "        \n",
    "        tree.append(buildtree(datasubset[i],labelsubset[i]))\n",
    "    return tree"
   ]
  },
  {
   "cell_type": "code",
   "execution_count": 77,
   "metadata": {},
   "outputs": [],
   "source": [
    "import numpy as np\n",
    "\n",
    "car_data = [[0,1,3], [1,2,4], [1,5,3]]\n",
    "car_labels = [1,0,1,1]\n",
    "car_data=np.array(car_data)\n",
    "car_labels=np.array(car_labels)"
   ]
  },
  {
   "cell_type": "code",
   "execution_count": 78,
   "metadata": {},
   "outputs": [
    {
     "name": "stdout",
     "output_type": "stream",
     "text": [
      "3\n"
     ]
    }
   ],
   "source": [
    "print(len(car_data))"
   ]
  },
  {
   "cell_type": "code",
   "execution_count": 81,
   "metadata": {},
   "outputs": [
    {
     "name": "stdout",
     "output_type": "stream",
     "text": [
      "[Counter({1: 1}), Counter({0: 1}), Counter({1: 1})]\n"
     ]
    }
   ],
   "source": [
    "tree = buildtree(car_data, car_labels)\n",
    "print(tree)  "
   ]
  },
  {
   "cell_type": "code",
   "execution_count": 84,
   "metadata": {},
   "outputs": [],
   "source": [
    "class Perceptron:\n",
    "    def _init_(self,numpoints=3,weights=[1,2,1]):\n",
    "        self.numpoints=numpoints\n",
    "        self.weights=weights\n",
    "        \n",
    "    def weigtedsum(self,input):\n",
    "        weightedsum=0\n",
    "        for i in range(len(input)):\n",
    "            weightedsum+=input[i]*self.weights[i]\n",
    "        return weightedsum\n",
    "    \n",
    "    def activation(self, weightedsum):\n",
    "        if weightedsum>=0:\n",
    "            return 1\n",
    "        else:\n",
    "            return 0\n",
    "        \n",
    "    def training(self,trainingset):\n",
    "        foundline=False\n",
    "        while not foundline:\n",
    "            totalerror=0\n",
    "            for i in trainingset:\n",
    "                predict=activation(weigtedsum(i))\n",
    "                error=trainingset[i]-predict\n",
    "                totalerror+=abs(error)\n",
    "                for j in range(len(weights)):\n",
    "                    weigth[j]+=error*i[j]\n",
    "            if totalerror==0:\n",
    "                foundline=True\n",
    "                "
   ]
  },
  {
   "cell_type": "code",
   "execution_count": null,
   "metadata": {},
   "outputs": [],
   "source": []
  }
 ],
 "metadata": {
  "kernelspec": {
   "display_name": "Python 3",
   "language": "python",
   "name": "python3"
  },
  "language_info": {
   "codemirror_mode": {
    "name": "ipython",
    "version": 3
   },
   "file_extension": ".py",
   "mimetype": "text/x-python",
   "name": "python",
   "nbconvert_exporter": "python",
   "pygments_lexer": "ipython3",
   "version": "3.7.2"
  }
 },
 "nbformat": 4,
 "nbformat_minor": 2
}
